{
 "cells": [
  {
   "cell_type": "markdown",
   "metadata": {},
   "source": [
    "# Search-coil Magnetometer (SCM)\n",
    "\n",
    "This notebook shows how to load and plot MMS SCM data with pySPEDAS and pyTplot\n",
    "\n",
    "For information on the data, please see the Data Products Guide at:\n",
    "\n",
    "https://lasp.colorado.edu/mms/sdc/public/datasets/fields/"
   ]
  },
  {
   "cell_type": "markdown",
   "metadata": {},
   "source": [
    "## Get started\n",
    "\n",
    "To get started, import the `scm` function from the `pyspedas.mms` module, and `tplot` from `pytplot`"
   ]
  },
  {
   "cell_type": "code",
   "execution_count": 1,
   "metadata": {},
   "outputs": [],
   "source": [
    "from pyspedas.mms import scm\n",
    "from pytplot import tplot\n",
    "from pyspedas.analysis.tdpwrspc import tdpwrspc"
   ]
  },
  {
   "cell_type": "markdown",
   "metadata": {},
   "source": [
    "Select SATNAME ('1','2','3', or '4')"
   ]
  },
  {
   "cell_type": "code",
   "execution_count": 2,
   "metadata": {},
   "outputs": [],
   "source": [
    "satname = '4'"
   ]
  },
  {
   "cell_type": "markdown",
   "metadata": {},
   "source": [
    "Select data rate ('srvy' or 'brst')"
   ]
  },
  {
   "cell_type": "code",
   "execution_count": 3,
   "metadata": {},
   "outputs": [],
   "source": [
    "scm_data_rate = 'srvy' # or 'brst'"
   ]
  },
  {
   "cell_type": "markdown",
   "metadata": {},
   "source": [
    "Select mode ('scsrvy' for survey data rate (both slow and fast have 32 S/s), 'scb' (8192 S/s) or 'schb' (16384 S/s) for burst data rate)"
   ]
  },
  {
   "cell_type": "code",
   "execution_count": 4,
   "metadata": {},
   "outputs": [],
   "source": [
    "scm_datatype = 'scsrvy' # or 'scb'"
   ]
  },
  {
   "cell_type": "code",
   "execution_count": 5,
   "metadata": {},
   "outputs": [],
   "source": [
    "scm_name = 'mms'+satname+'_scm_acb_gse_'+scm_datatype+'_'+scm_data_rate+'_l2'"
   ]
  },
  {
   "cell_type": "markdown",
   "metadata": {},
   "source": [
    "## Load the survey mode SCM data"
   ]
  },
  {
   "cell_type": "code",
   "execution_count": 6,
   "metadata": {},
   "outputs": [
    {
     "name": "stderr",
     "output_type": "stream",
     "text": [
      "17-Mar-20 16:53:34: Loading /Volumes/data/data/mms/mms4/scm/srvy/l2/scsrvy/2015/10/mms4_scm_srvy_l2_scsrvy_20151016_v2.2.3.cdf\n",
      "17-Mar-20 16:53:34: Loading /Volumes/data/data/mms/mms4/scm/srvy/l2/scsrvy/2015/10/mms4_scm_srvy_l2_scsrvy_20151016_v2.2.3.cdf\n"
     ]
    },
    {
     "name": "stdout",
     "output_type": "stream",
     "text": [
      "Time clip was applied to: mms4_scm_acb_gse_scsrvy_srvy_l2\n",
      "Loaded variables:\n",
      "mms4_scm_acb_gse_scsrvy_srvy_l2\n",
      "Time clip was applied to: mms4_scm_acb_gse_scsrvy_srvy_l2\n",
      "Loaded variables:\n",
      "mms4_scm_acb_gse_scsrvy_srvy_l2\n"
     ]
    }
   ],
   "source": [
    "scm_vars = scm(trange=['2015-10-16', '2015-10-16/3:00'], probe=satname, time_clip=True)"
   ]
  },
  {
   "cell_type": "markdown",
   "metadata": {},
   "source": [
    "## Plot the survey mode data in GSE coordinates"
   ]
  },
  {
   "cell_type": "code",
   "execution_count": 8,
   "metadata": {},
   "outputs": [],
   "source": [
    "tplot(scm_name)"
   ]
  },
  {
   "cell_type": "markdown",
   "metadata": {},
   "source": [
    "## Dynamic Power Spectra\n",
    "\n",
    "Calculate the dynamic power spectra without overlapping nshiftpoints=nboxpoints"
   ]
  },
  {
   "cell_type": "code",
   "execution_count": 9,
   "metadata": {},
   "outputs": [],
   "source": [
    "if scm_datatype == 'scb': \n",
    "    nboxpoints_input = 8192 \n",
    "else:\n",
    "    nboxpoints_input = 512"
   ]
  },
  {
   "cell_type": "code",
   "execution_count": 10,
   "metadata": {},
   "outputs": [],
   "source": [
    "pwrspc_var = tdpwrspc(scm_name, nboxpoints=nboxpoints_input, nshiftpoints=nboxpoints_input, binsize=1)"
   ]
  },
  {
   "cell_type": "code",
   "execution_count": 11,
   "metadata": {},
   "outputs": [],
   "source": [
    "tplot(pwrspc_var)"
   ]
  },
  {
   "cell_type": "markdown",
   "metadata": {},
   "source": [
    "## Load the burst mode data"
   ]
  },
  {
   "cell_type": "code",
   "execution_count": 12,
   "metadata": {},
   "outputs": [
    {
     "name": "stderr",
     "output_type": "stream",
     "text": [
      "17-Mar-20 16:55:35: Loading /Volumes/data/data/mms/mms1/scm/brst/l2/scb/2015/10/16/mms1_scm_brst_l2_scb_20151016130524_v2.2.0.cdf\n",
      "17-Mar-20 16:55:35: Loading /Volumes/data/data/mms/mms1/scm/brst/l2/scb/2015/10/16/mms1_scm_brst_l2_scb_20151016130524_v2.2.0.cdf\n",
      "17-Mar-20 16:55:35: Loading /Volumes/data/data/mms/mms1/scm/brst/l2/schb/2015/10/16/mms1_scm_brst_l2_schb_20151016130524_v2.2.0.cdf\n",
      "17-Mar-20 16:55:35: Loading /Volumes/data/data/mms/mms1/scm/brst/l2/schb/2015/10/16/mms1_scm_brst_l2_schb_20151016130524_v2.2.0.cdf\n"
     ]
    },
    {
     "name": "stdout",
     "output_type": "stream",
     "text": [
      "Loaded variables:\n",
      "mms1_scm_acb_gse_scb_brst_l2\n",
      "mms1_scm_acb_gse_schb_brst_l2\n",
      "Loaded variables:\n",
      "mms1_scm_acb_gse_scb_brst_l2\n",
      "mms1_scm_acb_gse_schb_brst_l2\n"
     ]
    }
   ],
   "source": [
    "burst_vars = scm(data_rate='brst', trange=['2015-10-16/13:06', '2015-10-16/13:07'])"
   ]
  },
  {
   "cell_type": "markdown",
   "metadata": {},
   "source": [
    "## Plot the burst mode data in GSE coordinates"
   ]
  },
  {
   "cell_type": "code",
   "execution_count": 13,
   "metadata": {},
   "outputs": [],
   "source": [
    "tplot('mms1_scm_acb_gse_scb_brst_l2')"
   ]
  },
  {
   "cell_type": "code",
   "execution_count": null,
   "metadata": {},
   "outputs": [],
   "source": []
  }
 ],
 "metadata": {
  "kernelspec": {
   "display_name": "Python 3",
   "language": "python",
   "name": "python3"
  },
  "language_info": {
   "codemirror_mode": {
    "name": "ipython",
    "version": 3
   },
   "file_extension": ".py",
   "mimetype": "text/x-python",
   "name": "python",
   "nbconvert_exporter": "python",
   "pygments_lexer": "ipython3",
   "version": "3.7.2"
  }
 },
 "nbformat": 4,
 "nbformat_minor": 2
}
