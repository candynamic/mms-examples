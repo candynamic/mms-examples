{
 "cells": [
  {
   "cell_type": "markdown",
   "metadata": {},
   "source": [
    "# Search-coil Magnetometer (SCM)\n",
    "\n",
    "This notebook shows how to load and plot MMS SCM data with pySPEDAS and pyTplot\n",
    "\n",
    "For information on the data, please see the Data Products Guide at:\n",
    "\n",
    "https://lasp.colorado.edu/mms/sdc/public/datasets/fields/"
   ]
  },
  {
   "cell_type": "markdown",
   "metadata": {},
   "source": [
    "## Get started\n",
    "\n",
    "To get started, import the `scm` function from the `pyspedas.mms` module, and `tplot` from `pytplot`"
   ]
  },
  {
   "cell_type": "code",
   "execution_count": 1,
   "metadata": {},
   "outputs": [],
   "source": [
    "from pyspedas.mms import scm\n",
    "from pytplot import tplot"
   ]
  },
  {
   "cell_type": "markdown",
   "metadata": {},
   "source": [
    "## Load the survey mode SCM data"
   ]
  },
  {
   "cell_type": "code",
   "execution_count": 2,
   "metadata": {},
   "outputs": [
    {
     "name": "stderr",
     "output_type": "stream",
     "text": [
      "18-Oct-19 21:35:17: Loading /Volumes/data/data/mms/mms1/scm/srvy/l2/2015/10/mms1_scm_srvy_l2_scsrvy_20151016_v2.2.5.cdf\n"
     ]
    },
    {
     "name": "stdout",
     "output_type": "stream",
     "text": [
      "Loaded variables:\n",
      "mms1_scm_acb_gse_scsrvy_srvy_l2\n"
     ]
    }
   ],
   "source": [
    "scm_vars = scm(trange=['2015-10-16', '2015-10-17'])"
   ]
  },
  {
   "cell_type": "markdown",
   "metadata": {},
   "source": [
    "## Plot the survey mode data in GSE coordinates"
   ]
  },
  {
   "cell_type": "code",
   "execution_count": 3,
   "metadata": {},
   "outputs": [],
   "source": [
    "tplot('mms1_scm_acb_gse_scsrvy_srvy_l2')"
   ]
  },
  {
   "cell_type": "markdown",
   "metadata": {},
   "source": [
    "## Load the burst mode data"
   ]
  },
  {
   "cell_type": "code",
   "execution_count": 4,
   "metadata": {},
   "outputs": [
    {
     "name": "stderr",
     "output_type": "stream",
     "text": [
      "18-Oct-19 21:36:22: Loading /Volumes/data/data/mms/mms1/scm/brst/l2/2015/10/16/mms1_scm_brst_l2_scb_20151016130524_v2.2.0.cdf\n"
     ]
    },
    {
     "name": "stdout",
     "output_type": "stream",
     "text": [
      "Loaded variables:\n",
      "mms1_scm_acb_gse_scb_brst_l2\n"
     ]
    }
   ],
   "source": [
    "burst_vars = scm(data_rate='brst', trange=['2015-10-16/13:06', '2015-10-16/13:07'])"
   ]
  },
  {
   "cell_type": "markdown",
   "metadata": {},
   "source": [
    "## Plot the burst mode data in GSE coordinates"
   ]
  },
  {
   "cell_type": "code",
   "execution_count": 5,
   "metadata": {},
   "outputs": [],
   "source": [
    "tplot('mms1_scm_acb_gse_scb_brst_l2')"
   ]
  }
 ],
 "metadata": {
  "kernelspec": {
   "display_name": "Python 3",
   "language": "python",
   "name": "python3"
  },
  "language_info": {
   "codemirror_mode": {
    "name": "ipython",
    "version": 3
   },
   "file_extension": ".py",
   "mimetype": "text/x-python",
   "name": "python",
   "nbconvert_exporter": "python",
   "pygments_lexer": "ipython3",
   "version": "3.7.2"
  }
 },
 "nbformat": 4,
 "nbformat_minor": 2
}
