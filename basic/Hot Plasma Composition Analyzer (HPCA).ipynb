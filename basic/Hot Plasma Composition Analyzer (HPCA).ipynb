{
 "cells": [
  {
   "cell_type": "markdown",
   "metadata": {},
   "source": [
    "# Hot Plasma Composition Analyzer (HPCA)\n",
    "\n",
    "This notebook shows how to load and plot MMS HPCA data with pySPEDAS and pyTplot\n",
    "\n",
    "For information on the data, please see the Data Products Guide at:\n",
    "\n",
    "https://lasp.colorado.edu/mms/sdc/public/datasets/hpca/"
   ]
  },
  {
   "cell_type": "markdown",
   "metadata": {},
   "source": [
    "## Get started"
   ]
  },
  {
   "cell_type": "code",
   "execution_count": 1,
   "metadata": {},
   "outputs": [],
   "source": [
    "from pyspedas.mms import hpca\n",
    "from pyspedas import mms_hpca_calc_anodes\n",
    "from pyspedas import mms_hpca_spin_sum\n",
    "from pytplot import tplot"
   ]
  },
  {
   "cell_type": "markdown",
   "metadata": {},
   "source": [
    "## Load burst mode moments data"
   ]
  },
  {
   "cell_type": "code",
   "execution_count": 2,
   "metadata": {},
   "outputs": [
    {
     "name": "stderr",
     "output_type": "stream",
     "text": [
      "18-Oct-19 00:44:41: Loading /Volumes/data/data/mms/mms1/hpca/brst/l2/moments/2015/10/16/mms1_hpca_brst_l2_moments_20151016130334_v4.1.0.cdf\n",
      "18-Oct-19 00:44:41: Loading /Volumes/data/data/mms/mms1/hpca/brst/l2/moments/2015/10/16/mms1_hpca_brst_l2_moments_20151016130524_v4.1.0.cdf\n",
      "18-Oct-19 00:44:41: Loading /Volumes/data/data/mms/mms1/hpca/brst/l2/moments/2015/10/16/mms1_hpca_brst_l2_moments_20151016130904_v4.1.0.cdf\n"
     ]
    },
    {
     "name": "stdout",
     "output_type": "stream",
     "text": [
      "Time clip was applied to: mms1_hpca_spin_number\n",
      "Time clip was applied to: mms1_hpca_sweep_table_number\n",
      "Time clip was applied to: mms1_hpca_science_mode\n",
      "Time clip was applied to: mms1_hpca_hplus_number_density\n",
      "Time clip was applied to: mms1_hpca_hplus_ion_bulk_velocity\n",
      "Time clip was applied to: mms1_hpca_hplus_scalar_temperature\n",
      "Time clip was applied to: mms1_hpca_hplus_ion_pressure\n",
      "Time clip was applied to: mms1_hpca_hplus_temperature_tensor\n",
      "Time clip was applied to: mms1_hpca_heplus_number_density\n",
      "Time clip was applied to: mms1_hpca_heplus_ion_bulk_velocity\n",
      "Time clip was applied to: mms1_hpca_heplus_scalar_temperature\n",
      "Time clip was applied to: mms1_hpca_heplus_ion_pressure\n",
      "Time clip was applied to: mms1_hpca_heplus_temperature_tensor\n",
      "Time clip was applied to: mms1_hpca_heplusplus_number_density\n",
      "Time clip was applied to: mms1_hpca_heplusplus_ion_bulk_velocity\n",
      "Time clip was applied to: mms1_hpca_heplusplus_scalar_temperature\n",
      "Time clip was applied to: mms1_hpca_heplusplus_ion_pressure\n",
      "Time clip was applied to: mms1_hpca_heplusplus_temperature_tensor\n",
      "Time clip was applied to: mms1_hpca_oplus_number_density\n",
      "Time clip was applied to: mms1_hpca_oplus_ion_bulk_velocity\n",
      "Time clip was applied to: mms1_hpca_oplus_scalar_temperature\n",
      "Time clip was applied to: mms1_hpca_oplus_ion_pressure\n",
      "Time clip was applied to: mms1_hpca_oplus_temperature_tensor\n",
      "Time clip was applied to: mms1_hpca_B_GSE_spin_avg\n",
      "Time clip was applied to: mms1_hpca_B_GSM_spin_avg\n",
      "Time clip was applied to: mms1_hpca_hplus_ion_bulk_velocity_GSM\n",
      "Time clip was applied to: mms1_hpca_hplus_tperp\n",
      "Time clip was applied to: mms1_hpca_hplus_tparallel\n",
      "Time clip was applied to: mms1_hpca_hplus_vperp\n",
      "Time clip was applied to: mms1_hpca_hplus_vparallel\n",
      "Time clip was applied to: mms1_hpca_hplus_vperp_GSM\n",
      "Time clip was applied to: mms1_hpca_hplus_vparallel_GSM\n",
      "Time clip was applied to: mms1_hpca_heplus_ion_bulk_velocity_GSM\n",
      "Time clip was applied to: mms1_hpca_heplus_tperp\n",
      "Time clip was applied to: mms1_hpca_heplus_tparallel\n",
      "Time clip was applied to: mms1_hpca_heplus_vperp\n",
      "Time clip was applied to: mms1_hpca_heplus_vparallel\n",
      "Time clip was applied to: mms1_hpca_heplus_vperp_GSM\n",
      "Time clip was applied to: mms1_hpca_heplus_vparallel_GSM\n",
      "Time clip was applied to: mms1_hpca_heplusplus_ion_bulk_velocity_GSM\n",
      "Time clip was applied to: mms1_hpca_heplusplus_tperp\n",
      "Time clip was applied to: mms1_hpca_heplusplus_tparallel\n",
      "Time clip was applied to: mms1_hpca_heplusplus_vperp\n",
      "Time clip was applied to: mms1_hpca_heplusplus_vparallel\n",
      "Time clip was applied to: mms1_hpca_heplusplus_vperp_GSM\n",
      "Time clip was applied to: mms1_hpca_heplusplus_vparallel_GSM\n",
      "Time clip was applied to: mms1_hpca_oplus_ion_bulk_velocity_GSM\n",
      "Time clip was applied to: mms1_hpca_oplus_tperp\n",
      "Time clip was applied to: mms1_hpca_oplus_tparallel\n",
      "Time clip was applied to: mms1_hpca_oplus_vperp\n",
      "Time clip was applied to: mms1_hpca_oplus_vparallel\n",
      "Time clip was applied to: mms1_hpca_oplus_vperp_GSM\n",
      "Time clip was applied to: mms1_hpca_oplus_vparallel_GSM\n",
      "Time clip was applied to: mms1_hpca_MCP_VMON_MIN_converted\n",
      "Time clip was applied to: mms1_hpca_TOF_VMON_MIN_converted\n",
      "Loaded variables:\n",
      "mms1_hpca_spin_number\n",
      "mms1_hpca_sweep_table_number\n",
      "mms1_hpca_science_mode\n",
      "mms1_hpca_hplus_number_density\n",
      "mms1_hpca_hplus_ion_bulk_velocity\n",
      "mms1_hpca_hplus_scalar_temperature\n",
      "mms1_hpca_hplus_ion_pressure\n",
      "mms1_hpca_hplus_temperature_tensor\n",
      "mms1_hpca_heplus_number_density\n",
      "mms1_hpca_heplus_ion_bulk_velocity\n",
      "mms1_hpca_heplus_scalar_temperature\n",
      "mms1_hpca_heplus_ion_pressure\n",
      "mms1_hpca_heplus_temperature_tensor\n",
      "mms1_hpca_heplusplus_number_density\n",
      "mms1_hpca_heplusplus_ion_bulk_velocity\n",
      "mms1_hpca_heplusplus_scalar_temperature\n",
      "mms1_hpca_heplusplus_ion_pressure\n",
      "mms1_hpca_heplusplus_temperature_tensor\n",
      "mms1_hpca_oplus_number_density\n",
      "mms1_hpca_oplus_ion_bulk_velocity\n",
      "mms1_hpca_oplus_scalar_temperature\n",
      "mms1_hpca_oplus_ion_pressure\n",
      "mms1_hpca_oplus_temperature_tensor\n",
      "mms1_hpca_B_GSE_spin_avg\n",
      "mms1_hpca_B_GSM_spin_avg\n",
      "mms1_hpca_hplus_ion_bulk_velocity_GSM\n",
      "mms1_hpca_hplus_tperp\n",
      "mms1_hpca_hplus_tparallel\n",
      "mms1_hpca_hplus_vperp\n",
      "mms1_hpca_hplus_vparallel\n",
      "mms1_hpca_hplus_vperp_GSM\n",
      "mms1_hpca_hplus_vparallel_GSM\n",
      "mms1_hpca_heplus_ion_bulk_velocity_GSM\n",
      "mms1_hpca_heplus_tperp\n",
      "mms1_hpca_heplus_tparallel\n",
      "mms1_hpca_heplus_vperp\n",
      "mms1_hpca_heplus_vparallel\n",
      "mms1_hpca_heplus_vperp_GSM\n",
      "mms1_hpca_heplus_vparallel_GSM\n",
      "mms1_hpca_heplusplus_ion_bulk_velocity_GSM\n",
      "mms1_hpca_heplusplus_tperp\n",
      "mms1_hpca_heplusplus_tparallel\n",
      "mms1_hpca_heplusplus_vperp\n",
      "mms1_hpca_heplusplus_vparallel\n",
      "mms1_hpca_heplusplus_vperp_GSM\n",
      "mms1_hpca_heplusplus_vparallel_GSM\n",
      "mms1_hpca_oplus_ion_bulk_velocity_GSM\n",
      "mms1_hpca_oplus_tperp\n",
      "mms1_hpca_oplus_tparallel\n",
      "mms1_hpca_oplus_vperp\n",
      "mms1_hpca_oplus_vparallel\n",
      "mms1_hpca_oplus_vperp_GSM\n",
      "mms1_hpca_oplus_vparallel_GSM\n",
      "mms1_hpca_MCP_VMON_MIN_converted\n",
      "mms1_hpca_TOF_VMON_MIN_converted\n"
     ]
    }
   ],
   "source": [
    "hpca_vars = hpca(trange=['2015-10-16/13:05', '2015-10-16/13:10'], data_rate='brst', time_clip=True)"
   ]
  },
  {
   "cell_type": "markdown",
   "metadata": {},
   "source": [
    "## Plot the H+, O+ and He+ density"
   ]
  },
  {
   "cell_type": "code",
   "execution_count": 3,
   "metadata": {},
   "outputs": [],
   "source": [
    "tplot(['mms1_hpca_hplus_number_density', \n",
    "        'mms1_hpca_oplus_number_density', \n",
    "        'mms1_hpca_heplus_number_density'])"
   ]
  },
  {
   "cell_type": "markdown",
   "metadata": {},
   "source": [
    "## Plot the H+, O+ and He+ temperature"
   ]
  },
  {
   "cell_type": "code",
   "execution_count": 4,
   "metadata": {},
   "outputs": [],
   "source": [
    "tplot(['mms1_hpca_hplus_scalar_temperature', \n",
    "        'mms1_hpca_oplus_scalar_temperature', \n",
    "        'mms1_hpca_heplus_scalar_temperature'])"
   ]
  },
  {
   "cell_type": "markdown",
   "metadata": {},
   "source": [
    "## Plot the H+, O+ and He+ flow velocity"
   ]
  },
  {
   "cell_type": "code",
   "execution_count": 5,
   "metadata": {},
   "outputs": [],
   "source": [
    "tplot(['mms1_hpca_hplus_ion_bulk_velocity', \n",
    "        'mms1_hpca_oplus_ion_bulk_velocity', \n",
    "        'mms1_hpca_heplus_ion_bulk_velocity'])"
   ]
  },
  {
   "cell_type": "markdown",
   "metadata": {},
   "source": [
    "## Load burst mode ion flux data"
   ]
  },
  {
   "cell_type": "code",
   "execution_count": 6,
   "metadata": {},
   "outputs": [
    {
     "name": "stderr",
     "output_type": "stream",
     "text": [
      "18-Oct-19 00:44:46: Loading /Volumes/data/data/mms/mms1/hpca/brst/l2/ion/2015/10/16/mms1_hpca_brst_l2_ion_20151016130334_v4.1.0.cdf\n",
      "18-Oct-19 00:44:46: Loading /Volumes/data/data/mms/mms1/hpca/brst/l2/ion/2015/10/16/mms1_hpca_brst_l2_ion_20151016130524_v4.1.0.cdf\n"
     ]
    },
    {
     "name": "stdout",
     "output_type": "stream",
     "text": [
      "Loaded variables:\n",
      "mms1_hpca_azimuth_decimation_factor\n",
      "mms1_hpca_polar_decimation_factor\n",
      "mms1_hpca_energy_decimation_factor\n",
      "mms1_hpca_sweep_table_number\n",
      "mms1_hpca_start_azimuth\n",
      "mms1_hpca_science_mode\n",
      "mms1_hpca_hplus_flux\n",
      "mms1_hpca_hplus_phase_space_density\n",
      "mms1_hpca_heplus_flux\n",
      "mms1_hpca_heplus_phase_space_density\n",
      "mms1_hpca_heplusplus_flux\n",
      "mms1_hpca_heplusplus_phase_space_density\n",
      "mms1_hpca_oplus_flux\n",
      "mms1_hpca_oplus_phase_space_density\n",
      "mms1_hpca_B_GSE_sweep_avg\n",
      "mms1_hpca_B_GSM_sweep_avg\n",
      "mms1_hpca_azimuth_angles_degrees\n",
      "mms1_hpca_azimuth_angles_per_ev_degrees\n",
      "mms1_hpca_MCP_VMON_MIN_converted\n",
      "mms1_hpca_TOF_VMON_MIN_converted\n",
      "mms1_hpca_decimation_factor_index\n"
     ]
    }
   ],
   "source": [
    "ion_vars = hpca(trange=['2015-10-16/13:05', '2015-10-16/13:07'], datatype='ion', data_rate='brst')"
   ]
  },
  {
   "cell_type": "markdown",
   "metadata": {},
   "source": [
    "## Average the flux over the full field of view (0-360)"
   ]
  },
  {
   "cell_type": "code",
   "execution_count": 7,
   "metadata": {},
   "outputs": [
    {
     "data": {
      "text/plain": [
       "['mms1_hpca_hplus_flux_elev_0-360',\n",
       " 'mms1_hpca_heplus_flux_elev_0-360',\n",
       " 'mms1_hpca_heplusplus_flux_elev_0-360',\n",
       " 'mms1_hpca_oplus_flux_elev_0-360']"
      ]
     },
     "execution_count": 7,
     "metadata": {},
     "output_type": "execute_result"
    }
   ],
   "source": [
    "mms_hpca_calc_anodes(fov=[0, 360], probe='1')"
   ]
  },
  {
   "cell_type": "markdown",
   "metadata": {},
   "source": [
    "## Spin-average to calculate the omni-directional flux"
   ]
  },
  {
   "cell_type": "code",
   "execution_count": 8,
   "metadata": {},
   "outputs": [
    {
     "data": {
      "text/plain": [
       "['mms1_hpca_hplus_flux_elev_0-360_spin',\n",
       " 'mms1_hpca_heplus_flux_elev_0-360_spin',\n",
       " 'mms1_hpca_heplusplus_flux_elev_0-360_spin',\n",
       " 'mms1_hpca_oplus_flux_elev_0-360_spin']"
      ]
     },
     "execution_count": 8,
     "metadata": {},
     "output_type": "execute_result"
    }
   ],
   "source": [
    "mms_hpca_spin_sum(probe='1', avg=True)"
   ]
  },
  {
   "cell_type": "markdown",
   "metadata": {},
   "source": [
    "## Plot the omni-directional flux for H+, O+ and He+, He++ "
   ]
  },
  {
   "cell_type": "code",
   "execution_count": 9,
   "metadata": {},
   "outputs": [],
   "source": [
    "tplot(['mms1_hpca_hplus_flux_elev_0-360_spin', \n",
    "             'mms1_hpca_oplus_flux_elev_0-360_spin', \n",
    "             'mms1_hpca_heplus_flux_elev_0-360_spin', \n",
    "             'mms1_hpca_heplusplus_flux_elev_0-360_spin'])"
   ]
  }
 ],
 "metadata": {
  "kernelspec": {
   "display_name": "Python 3",
   "language": "python",
   "name": "python3"
  },
  "language_info": {
   "codemirror_mode": {
    "name": "ipython",
    "version": 3
   },
   "file_extension": ".py",
   "mimetype": "text/x-python",
   "name": "python",
   "nbconvert_exporter": "python",
   "pygments_lexer": "ipython3",
   "version": "3.7.2"
  }
 },
 "nbformat": 4,
 "nbformat_minor": 2
}
