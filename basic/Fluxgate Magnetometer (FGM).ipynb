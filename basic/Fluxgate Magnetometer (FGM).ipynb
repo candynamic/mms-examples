{
 "cells": [
  {
   "cell_type": "markdown",
   "metadata": {},
   "source": [
    "## Fluxgate Magnetometer (FGM)"
   ]
  },
  {
   "cell_type": "code",
   "execution_count": 6,
   "metadata": {},
   "outputs": [],
   "source": [
    "from pyspedas.mms import fgm\n",
    "from pytplot import tplot"
   ]
  },
  {
   "cell_type": "code",
   "execution_count": 5,
   "metadata": {},
   "outputs": [
    {
     "name": "stderr",
     "output_type": "stream",
     "text": [
      "10-Oct-19 15:02:55: Loading /Volumes/data/data/mms/mms1/fgm/srvy/l2/2015/10/mms1_fgm_srvy_l2_20151016_v4.18.0.cdf\n"
     ]
    },
    {
     "name": "stdout",
     "output_type": "stream",
     "text": [
      "The lengths of x and y do not match!\n",
      "Loaded variables:\n",
      "mms1_fgm_b_gse_srvy_l2\n",
      "mms1_fgm_b_gsm_srvy_l2\n",
      "mms1_fgm_b_dmpa_srvy_l2\n",
      "mms1_fgm_b_bcs_srvy_l2\n",
      "mms1_fgm_flag_srvy_l2\n",
      "mms1_fgm_r_gse_srvy_l2\n",
      "mms1_fgm_r_gsm_srvy_l2\n",
      "mms1_fgm_hirange_srvy_l2\n",
      "mms1_fgm_bdeltahalf_srvy_l2\n",
      "mms1_fgm_stemp_srvy_l2\n",
      "mms1_fgm_etemp_srvy_l2\n",
      "mms1_fgm_mode_srvy_l2\n",
      "mms1_fgm_rdeltahalf_srvy_l2\n"
     ]
    }
   ],
   "source": [
    "fgm_vars = fgm(trange=['2015-10-16', '2015-10-17'])"
   ]
  },
  {
   "cell_type": "code",
   "execution_count": 7,
   "metadata": {},
   "outputs": [],
   "source": [
    "tplot(['mms1_fgm_b_gse_srvy_l2', 'mms1_fgm_b_gsm_srvy_l2'])"
   ]
  },
  {
   "cell_type": "code",
   "execution_count": 8,
   "metadata": {},
   "outputs": [
    {
     "name": "stderr",
     "output_type": "stream",
     "text": [
      "10-Oct-19 15:06:36: Loading /Volumes/data/data/mms/mms1/fgm/brst/l2/2015/10/16/mms1_fgm_brst_l2_20151016130524_v4.18.1.cdf\n"
     ]
    },
    {
     "name": "stdout",
     "output_type": "stream",
     "text": [
      "The lengths of x and y do not match!\n",
      "Loaded variables:\n",
      "mms1_fgm_b_gse_brst_l2\n",
      "mms1_fgm_b_gsm_brst_l2\n",
      "mms1_fgm_b_dmpa_brst_l2\n",
      "mms1_fgm_b_bcs_brst_l2\n",
      "mms1_fgm_flag_brst_l2\n",
      "mms1_fgm_r_gse_brst_l2\n",
      "mms1_fgm_r_gsm_brst_l2\n",
      "mms1_fgm_hirange_brst_l2\n",
      "mms1_fgm_bdeltahalf_brst_l2\n",
      "mms1_fgm_stemp_brst_l2\n",
      "mms1_fgm_etemp_brst_l2\n",
      "mms1_fgm_mode_brst_l2\n",
      "mms1_fgm_rdeltahalf_brst_l2\n"
     ]
    }
   ],
   "source": [
    "brst_vars = fgm(data_rate='brst', trange=['2015-10-16/13:06', '2015-10-16/13:07'])"
   ]
  },
  {
   "cell_type": "code",
   "execution_count": 9,
   "metadata": {},
   "outputs": [
    {
     "name": "stderr",
     "output_type": "stream",
     "text": [
      "10-Oct-19 15:06:53: Loading /Volumes/data/data/mms/mms1/fgm/srvy/l2/2015/10/mms1_fgm_srvy_l2_20151016_v4.18.0.cdf\n"
     ]
    },
    {
     "name": "stdout",
     "output_type": "stream",
     "text": [
      "The lengths of x and y do not match!\n",
      "Loaded variables:\n",
      "mms1_fgm_b_gse_srvy_l2\n",
      "mms1_fgm_b_gsm_srvy_l2\n",
      "mms1_fgm_b_dmpa_srvy_l2\n",
      "mms1_fgm_b_bcs_srvy_l2\n",
      "mms1_fgm_flag_srvy_l2\n",
      "mms1_fgm_r_gse_srvy_l2\n",
      "mms1_fgm_r_gsm_srvy_l2\n",
      "mms1_fgm_hirange_srvy_l2\n",
      "mms1_fgm_bdeltahalf_srvy_l2\n",
      "mms1_fgm_stemp_srvy_l2\n",
      "mms1_fgm_etemp_srvy_l2\n",
      "mms1_fgm_mode_srvy_l2\n",
      "mms1_fgm_rdeltahalf_srvy_l2\n"
     ]
    }
   ],
   "source": [
    "flagged_vars = fgm(keep_flagged=True, trange=['2015-10-16', '2015-10-17'])"
   ]
  },
  {
   "cell_type": "code",
   "execution_count": 10,
   "metadata": {},
   "outputs": [
    {
     "name": "stderr",
     "output_type": "stream",
     "text": [
      "10-Oct-19 15:07:34: Loading /Volumes/data/data/mms/mms1/fgm/srvy/l2/2015/10/mms1_fgm_srvy_l2_20151016_v4.18.0.cdf\n"
     ]
    },
    {
     "name": "stdout",
     "output_type": "stream",
     "text": [
      "Loaded variables:\n",
      "mms1_fgm_b_gse_srvy_l2\n",
      "mms1_fgm_b_gsm_srvy_l2\n",
      "mms1_fgm_b_dmpa_srvy_l2\n",
      "mms1_fgm_b_bcs_srvy_l2\n",
      "mms1_fgm_flag_srvy_l2\n",
      "mms1_fgm_r_gse_srvy_l2\n",
      "mms1_fgm_r_gsm_srvy_l2\n",
      "mms1_fgm_hirange_srvy_l2\n",
      "mms1_fgm_bdeltahalf_srvy_l2\n",
      "mms1_fgm_stemp_srvy_l2\n",
      "mms1_fgm_etemp_srvy_l2\n",
      "mms1_fgm_mode_srvy_l2\n",
      "mms1_fgm_rdeltahalf_srvy_l2\n"
     ]
    }
   ],
   "source": [
    "np_data = fgm(notplot=True, trange=['2015-10-16', '2015-10-17'])"
   ]
  },
  {
   "cell_type": "code",
   "execution_count": 12,
   "metadata": {},
   "outputs": [
    {
     "data": {
      "text/plain": [
       "{'x': array([1.44495361e+09, 1.44495361e+09, 1.44495361e+09, ...,\n",
       "        1.44504001e+09, 1.44504001e+09, 1.44504001e+09]),\n",
       " 'y': array([[ 8580.49  ,  7339.21  ,  6250.034 , 12905.493 ],\n",
       "        [ 8861.722 ,  7441.703 ,  6211.8975, 13133.802 ],\n",
       "        [ 9138.241 ,  7578.622 ,  6165.077 , 13377.262 ],\n",
       "        ...,\n",
       "        [ 2184.8574, 10461.183 ,  5847.493 , 12182.083 ],\n",
       "        [ 2370.8855, 10600.011 ,  5806.255 , 12316.408 ],\n",
       "        [ 2541.932 , 10766.488 ,  5758.8696, 12471.698 ]], dtype=float32)}"
      ]
     },
     "execution_count": 12,
     "metadata": {},
     "output_type": "execute_result"
    }
   ],
   "source": [
    "np_data['mms1_fgm_b_gsm_srvy_l2']"
   ]
  },
  {
   "cell_type": "code",
   "execution_count": null,
   "metadata": {},
   "outputs": [],
   "source": []
  }
 ],
 "metadata": {
  "kernelspec": {
   "display_name": "Python 3",
   "language": "python",
   "name": "python3"
  },
  "language_info": {
   "codemirror_mode": {
    "name": "ipython",
    "version": 3
   },
   "file_extension": ".py",
   "mimetype": "text/x-python",
   "name": "python",
   "nbconvert_exporter": "python",
   "pygments_lexer": "ipython3",
   "version": "3.7.2"
  }
 },
 "nbformat": 4,
 "nbformat_minor": 2
}
