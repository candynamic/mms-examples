{
 "cells": [
  {
   "cell_type": "markdown",
   "metadata": {},
   "source": [
    "# Fast Plasma Investigation (FPI)\n",
    "\n",
    "This notebook shows how to load and plot MMS FPI data with pySPEDAS and pyTplot\n",
    "\n",
    "For information on the data, please see the Release Notes and Data Products Guide at:\n",
    "\n",
    "https://lasp.colorado.edu/mms/sdc/public/datasets/fpi/"
   ]
  },
  {
   "cell_type": "markdown",
   "metadata": {},
   "source": [
    "## Get started\n",
    "\n",
    "To get started, import the `fpi` function from the `pyspedas.mms` module, and `tplot` from `pytplot`"
   ]
  },
  {
   "cell_type": "code",
   "execution_count": 1,
   "metadata": {},
   "outputs": [],
   "source": [
    "from pyspedas.mms import fpi\n",
    "from pytplot import tplot"
   ]
  },
  {
   "cell_type": "markdown",
   "metadata": {},
   "source": [
    "## Load the electron moments data"
   ]
  },
  {
   "cell_type": "code",
   "execution_count": 2,
   "metadata": {},
   "outputs": [
    {
     "name": "stderr",
     "output_type": "stream",
     "text": [
      "18-Oct-19 13:18:35: Loading /Volumes/data/data/mms/mms1/fpi/fast/l2/des-moms/2015/10/mms1_fpi_fast_l2_des-moms_20151016040000_v3.3.0.cdf\n",
      "18-Oct-19 13:18:35: Loading /Volumes/data/data/mms/mms1/fpi/fast/l2/des-moms/2015/10/mms1_fpi_fast_l2_des-moms_20151016060000_v3.3.0.cdf\n",
      "18-Oct-19 13:18:35: Loading /Volumes/data/data/mms/mms1/fpi/fast/l2/des-moms/2015/10/mms1_fpi_fast_l2_des-moms_20151016080000_v3.3.0.cdf\n",
      "18-Oct-19 13:18:35: Loading /Volumes/data/data/mms/mms1/fpi/fast/l2/des-moms/2015/10/mms1_fpi_fast_l2_des-moms_20151016100000_v3.3.0.cdf\n",
      "18-Oct-19 13:18:35: Loading /Volumes/data/data/mms/mms1/fpi/fast/l2/des-moms/2015/10/mms1_fpi_fast_l2_des-moms_20151016120000_v3.3.0.cdf\n",
      "18-Oct-19 13:18:35: Loading /Volumes/data/data/mms/mms1/fpi/fast/l2/des-moms/2015/10/mms1_fpi_fast_l2_des-moms_20151016140000_v3.3.0.cdf\n",
      "18-Oct-19 13:18:35: Loading /Volumes/data/data/mms/mms1/fpi/fast/l2/des-moms/2015/10/mms1_fpi_fast_l2_des-moms_20151016160000_v3.3.0.cdf\n"
     ]
    },
    {
     "name": "stdout",
     "output_type": "stream",
     "text": [
      "Cannot find x axis.\n",
      "No attribute named DEPEND_TIME or DEPEND_0 in                           variable mms1_des_compressionloss_fast\n",
      "Cannot find x axis.\n",
      "No attribute named DEPEND_TIME or DEPEND_0 in                           variable mms1_des_compressionloss_fast\n",
      "Cannot find x axis.\n",
      "No attribute named DEPEND_TIME or DEPEND_0 in                           variable mms1_des_compressionloss_fast\n",
      "Cannot find x axis.\n",
      "No attribute named DEPEND_TIME or DEPEND_0 in                           variable mms1_des_compressionloss_fast\n",
      "Cannot find x axis.\n",
      "No attribute named DEPEND_TIME or DEPEND_0 in                           variable mms1_des_compressionloss_fast\n",
      "Cannot find x axis.\n",
      "No attribute named DEPEND_TIME or DEPEND_0 in                           variable mms1_des_compressionloss_fast\n",
      "Cannot find x axis.\n",
      "No attribute named DEPEND_TIME or DEPEND_0 in                           variable mms1_des_compressionloss_fast\n",
      "Loaded variables:\n",
      "mms1_des_errorflags_fast\n",
      "mms1_des_startdelphi_count_fast\n",
      "mms1_des_startdelphi_angle_fast\n",
      "mms1_des_pitchangdist_lowen_fast\n",
      "mms1_des_pitchangdist_miden_fast\n",
      "mms1_des_pitchangdist_highen_fast\n",
      "mms1_des_energyspectr_px_fast\n",
      "mms1_des_energyspectr_mx_fast\n",
      "mms1_des_energyspectr_py_fast\n",
      "mms1_des_energyspectr_my_fast\n",
      "mms1_des_energyspectr_pz_fast\n",
      "mms1_des_energyspectr_mz_fast\n",
      "mms1_des_energyspectr_par_fast\n",
      "mms1_des_energyspectr_anti_fast\n",
      "mms1_des_energyspectr_perp_fast\n",
      "mms1_des_energyspectr_omni_fast\n",
      "mms1_des_numberdensity_fast\n",
      "mms1_des_densityextrapolation_low_fast\n",
      "mms1_des_densityextrapolation_high_fast\n",
      "mms1_des_bulkv_dbcs_fast\n",
      "mms1_des_bulkv_spintone_dbcs_fast\n",
      "mms1_des_bulkv_gse_fast\n",
      "mms1_des_bulkv_spintone_gse_fast\n",
      "mms1_des_prestensor_dbcs_fast\n",
      "mms1_des_prestensor_gse_fast\n",
      "mms1_des_temptensor_dbcs_fast\n",
      "mms1_des_temptensor_gse_fast\n",
      "mms1_des_heatq_dbcs_fast\n",
      "mms1_des_heatq_gse_fast\n",
      "mms1_des_temppara_fast\n",
      "mms1_des_tempperp_fast\n"
     ]
    }
   ],
   "source": [
    "electron_vars = fpi(datatype='des-moms', trange=['2015-10-16', '2015-10-17'])"
   ]
  },
  {
   "cell_type": "markdown",
   "metadata": {},
   "source": [
    "## Plot the electron data"
   ]
  },
  {
   "cell_type": "code",
   "execution_count": 3,
   "metadata": {},
   "outputs": [],
   "source": [
    "tplot(['mms1_des_energyspectr_omni_fast', 'mms1_des_bulkv_gse_fast', 'mms1_des_numberdensity_fast'])"
   ]
  },
  {
   "cell_type": "markdown",
   "metadata": {},
   "source": [
    "## Load the ion moments data"
   ]
  },
  {
   "cell_type": "code",
   "execution_count": 4,
   "metadata": {},
   "outputs": [
    {
     "name": "stderr",
     "output_type": "stream",
     "text": [
      "18-Oct-19 13:18:40: Loading /Volumes/data/data/mms/mms1/fpi/fast/l2/dis-moms/2015/10/mms1_fpi_fast_l2_dis-moms_20151016040000_v3.3.0.cdf\n",
      "18-Oct-19 13:18:40: Loading /Volumes/data/data/mms/mms1/fpi/fast/l2/dis-moms/2015/10/mms1_fpi_fast_l2_dis-moms_20151016060000_v3.3.0.cdf\n",
      "18-Oct-19 13:18:40: Loading /Volumes/data/data/mms/mms1/fpi/fast/l2/dis-moms/2015/10/mms1_fpi_fast_l2_dis-moms_20151016080000_v3.3.0.cdf\n",
      "18-Oct-19 13:18:40: Loading /Volumes/data/data/mms/mms1/fpi/fast/l2/dis-moms/2015/10/mms1_fpi_fast_l2_dis-moms_20151016100000_v3.3.0.cdf\n",
      "18-Oct-19 13:18:40: Loading /Volumes/data/data/mms/mms1/fpi/fast/l2/dis-moms/2015/10/mms1_fpi_fast_l2_dis-moms_20151016120000_v3.3.0.cdf\n",
      "18-Oct-19 13:18:40: Loading /Volumes/data/data/mms/mms1/fpi/fast/l2/dis-moms/2015/10/mms1_fpi_fast_l2_dis-moms_20151016140000_v3.3.0.cdf\n",
      "18-Oct-19 13:18:40: Loading /Volumes/data/data/mms/mms1/fpi/fast/l2/dis-moms/2015/10/mms1_fpi_fast_l2_dis-moms_20151016160000_v3.3.0.cdf\n"
     ]
    },
    {
     "name": "stdout",
     "output_type": "stream",
     "text": [
      "Cannot find x axis.\n",
      "No attribute named DEPEND_TIME or DEPEND_0 in                           variable mms1_dis_compressionloss_fast\n",
      "Cannot find x axis.\n",
      "No attribute named DEPEND_TIME or DEPEND_0 in                           variable mms1_dis_compressionloss_fast\n",
      "Cannot find x axis.\n",
      "No attribute named DEPEND_TIME or DEPEND_0 in                           variable mms1_dis_compressionloss_fast\n",
      "Cannot find x axis.\n",
      "No attribute named DEPEND_TIME or DEPEND_0 in                           variable mms1_dis_compressionloss_fast\n",
      "Cannot find x axis.\n",
      "No attribute named DEPEND_TIME or DEPEND_0 in                           variable mms1_dis_compressionloss_fast\n",
      "Cannot find x axis.\n",
      "No attribute named DEPEND_TIME or DEPEND_0 in                           variable mms1_dis_compressionloss_fast\n",
      "Cannot find x axis.\n",
      "No attribute named DEPEND_TIME or DEPEND_0 in                           variable mms1_dis_compressionloss_fast\n",
      "Loaded variables:\n",
      "mms1_dis_errorflags_fast\n",
      "mms1_dis_startdelphi_count_fast\n",
      "mms1_dis_startdelphi_angle_fast\n",
      "mms1_dis_energyspectr_px_fast\n",
      "mms1_dis_energyspectr_mx_fast\n",
      "mms1_dis_energyspectr_py_fast\n",
      "mms1_dis_energyspectr_my_fast\n",
      "mms1_dis_energyspectr_pz_fast\n",
      "mms1_dis_energyspectr_mz_fast\n",
      "mms1_dis_energyspectr_omni_fast\n",
      "mms1_dis_spectr_bg_fast\n",
      "mms1_dis_numberdensity_bg_fast\n",
      "mms1_dis_numberdensity_fast\n",
      "mms1_dis_densityextrapolation_low_fast\n",
      "mms1_dis_densityextrapolation_high_fast\n",
      "mms1_dis_bulkv_dbcs_fast\n",
      "mms1_dis_bulkv_spintone_dbcs_fast\n",
      "mms1_dis_bulkv_gse_fast\n",
      "mms1_dis_bulkv_spintone_gse_fast\n",
      "mms1_dis_prestensor_dbcs_fast\n",
      "mms1_dis_prestensor_gse_fast\n",
      "mms1_dis_pres_bg_fast\n",
      "mms1_dis_temptensor_dbcs_fast\n",
      "mms1_dis_temptensor_gse_fast\n",
      "mms1_dis_heatq_dbcs_fast\n",
      "mms1_dis_heatq_gse_fast\n",
      "mms1_dis_temppara_fast\n",
      "mms1_dis_tempperp_fast\n"
     ]
    }
   ],
   "source": [
    "ion_vars = fpi(datatype='dis-moms', trange=['2015-10-16', '2015-10-17'])"
   ]
  },
  {
   "cell_type": "markdown",
   "metadata": {},
   "source": [
    "## Plot the ion data"
   ]
  },
  {
   "cell_type": "code",
   "execution_count": 5,
   "metadata": {},
   "outputs": [],
   "source": [
    "tplot(['mms1_dis_energyspectr_omni_fast', 'mms1_dis_bulkv_gse_fast', 'mms1_dis_numberdensity_fast'])"
   ]
  },
  {
   "cell_type": "markdown",
   "metadata": {},
   "source": [
    "## Load the burst mode data for both electrons and ions"
   ]
  },
  {
   "cell_type": "code",
   "execution_count": 6,
   "metadata": {},
   "outputs": [
    {
     "name": "stderr",
     "output_type": "stream",
     "text": [
      "18-Oct-19 13:18:44: Loading /Volumes/data/data/mms/mms1/fpi/brst/l2/des-moms/2015/10/16/mms1_fpi_brst_l2_des-moms_20151016130524_v3.3.0.cdf\n",
      "18-Oct-19 13:18:44: Loading /Volumes/data/data/mms/mms1/fpi/brst/l2/dis-moms/2015/10/16/mms1_fpi_brst_l2_dis-moms_20151016130524_v3.3.0.cdf\n"
     ]
    },
    {
     "name": "stdout",
     "output_type": "stream",
     "text": [
      "Loaded variables:\n",
      "mms1_des_errorflags_brst\n",
      "mms1_des_compressionloss_brst\n",
      "mms1_des_startdelphi_count_brst\n",
      "mms1_des_startdelphi_angle_brst\n",
      "mms1_des_sector_despinp_brst\n",
      "mms1_des_pitchangdist_lowen_brst\n",
      "mms1_des_pitchangdist_miden_brst\n",
      "mms1_des_pitchangdist_highen_brst\n",
      "mms1_des_energyspectr_px_brst\n",
      "mms1_des_energyspectr_mx_brst\n",
      "mms1_des_energyspectr_py_brst\n",
      "mms1_des_energyspectr_my_brst\n",
      "mms1_des_energyspectr_pz_brst\n",
      "mms1_des_energyspectr_mz_brst\n",
      "mms1_des_energyspectr_par_brst\n",
      "mms1_des_energyspectr_anti_brst\n",
      "mms1_des_energyspectr_perp_brst\n",
      "mms1_des_energyspectr_omni_brst\n",
      "mms1_des_numberdensity_brst\n",
      "mms1_des_densityextrapolation_low_brst\n",
      "mms1_des_densityextrapolation_high_brst\n",
      "mms1_des_bulkv_dbcs_brst\n",
      "mms1_des_bulkv_spintone_dbcs_brst\n",
      "mms1_des_bulkv_gse_brst\n",
      "mms1_des_bulkv_spintone_gse_brst\n",
      "mms1_des_prestensor_dbcs_brst\n",
      "mms1_des_prestensor_gse_brst\n",
      "mms1_des_temptensor_dbcs_brst\n",
      "mms1_des_temptensor_gse_brst\n",
      "mms1_des_heatq_dbcs_brst\n",
      "mms1_des_heatq_gse_brst\n",
      "mms1_des_temppara_brst\n",
      "mms1_des_tempperp_brst\n",
      "mms1_dis_errorflags_brst\n",
      "mms1_dis_compressionloss_brst\n",
      "mms1_dis_startdelphi_count_brst\n",
      "mms1_dis_startdelphi_angle_brst\n",
      "mms1_dis_sector_despinp_brst\n",
      "mms1_dis_energyspectr_px_brst\n",
      "mms1_dis_energyspectr_mx_brst\n",
      "mms1_dis_energyspectr_py_brst\n",
      "mms1_dis_energyspectr_my_brst\n",
      "mms1_dis_energyspectr_pz_brst\n",
      "mms1_dis_energyspectr_mz_brst\n",
      "mms1_dis_energyspectr_omni_brst\n",
      "mms1_dis_spectr_bg_brst\n",
      "mms1_dis_numberdensity_bg_brst\n",
      "mms1_dis_numberdensity_brst\n",
      "mms1_dis_densityextrapolation_low_brst\n",
      "mms1_dis_densityextrapolation_high_brst\n",
      "mms1_dis_bulkv_dbcs_brst\n",
      "mms1_dis_bulkv_spintone_dbcs_brst\n",
      "mms1_dis_bulkv_gse_brst\n",
      "mms1_dis_bulkv_spintone_gse_brst\n",
      "mms1_dis_prestensor_dbcs_brst\n",
      "mms1_dis_prestensor_gse_brst\n",
      "mms1_dis_pres_bg_brst\n",
      "mms1_dis_temptensor_dbcs_brst\n",
      "mms1_dis_temptensor_gse_brst\n",
      "mms1_dis_heatq_dbcs_brst\n",
      "mms1_dis_heatq_gse_brst\n",
      "mms1_dis_temppara_brst\n",
      "mms1_dis_tempperp_brst\n"
     ]
    }
   ],
   "source": [
    "both_vars = fpi(data_rate='brst', trange=['2015-10-16/13:06', '2015-10-16/13:07'])"
   ]
  },
  {
   "cell_type": "markdown",
   "metadata": {},
   "source": [
    "## Plot the burst mode data"
   ]
  },
  {
   "cell_type": "code",
   "execution_count": 7,
   "metadata": {},
   "outputs": [],
   "source": [
    "tplot(['mms1_des_bulkv_gse_brst', 'mms1_dis_bulkv_gse_brst', 'mms1_des_numberdensity_brst', 'mms1_dis_numberdensity_brst'])"
   ]
  }
 ],
 "metadata": {
  "kernelspec": {
   "display_name": "Python 3",
   "language": "python",
   "name": "python3"
  },
  "language_info": {
   "codemirror_mode": {
    "name": "ipython",
    "version": 3
   },
   "file_extension": ".py",
   "mimetype": "text/x-python",
   "name": "python",
   "nbconvert_exporter": "python",
   "pygments_lexer": "ipython3",
   "version": "3.7.2"
  }
 },
 "nbformat": 4,
 "nbformat_minor": 2
}
