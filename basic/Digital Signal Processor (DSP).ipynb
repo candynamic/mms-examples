{
 "cells": [
  {
   "cell_type": "markdown",
   "metadata": {},
   "source": [
    "# Digital Signal Processor (DSP)\n",
    "\n",
    "This notebook shows how to load and plot MMS DSP data with pySPEDAS and pyTplot\n",
    "\n",
    "For information on the data, please see the Data Products Guide at:\n",
    "\n",
    "https://lasp.colorado.edu/mms/sdc/public/datasets/fields/"
   ]
  },
  {
   "cell_type": "markdown",
   "metadata": {},
   "source": [
    "## Get started\n",
    "\n",
    "To get started, import the `dsp` function from the `pyspedas.mms` module, and `tplot` from `pytplot`"
   ]
  },
  {
   "cell_type": "code",
   "execution_count": 1,
   "metadata": {},
   "outputs": [],
   "source": [
    "from pyspedas.mms import dsp\n",
    "from pytplot import tplot"
   ]
  },
  {
   "cell_type": "markdown",
   "metadata": {},
   "source": [
    "## Load the electric spectral density"
   ]
  },
  {
   "cell_type": "code",
   "execution_count": 2,
   "metadata": {},
   "outputs": [
    {
     "name": "stderr",
     "output_type": "stream",
     "text": [
      "18-Oct-19 21:20:13: Loading /Volumes/data/data/mms/mms1/dsp/fast/l2/epsd/2015/10/mms1_dsp_fast_l2_epsd_20151016_v0.6.4.cdf\n"
     ]
    },
    {
     "name": "stdout",
     "output_type": "stream",
     "text": [
      "Loaded variables:\n",
      "mms1_dsp_epsd_x\n",
      "mms1_dsp_epsd_y\n",
      "mms1_dsp_epsd_z\n",
      "mms1_dsp_epsd_omni\n"
     ]
    }
   ],
   "source": [
    "epsd_vars = dsp(data_rate='fast', probe=1, datatype='epsd', level='l2')"
   ]
  },
  {
   "cell_type": "markdown",
   "metadata": {},
   "source": [
    "## Plot the electric spectral density"
   ]
  },
  {
   "cell_type": "code",
   "execution_count": 3,
   "metadata": {},
   "outputs": [],
   "source": [
    "tplot(['mms1_dsp_epsd_omni'])"
   ]
  },
  {
   "cell_type": "markdown",
   "metadata": {},
   "source": [
    "## Load the magnetic spectral density"
   ]
  },
  {
   "cell_type": "code",
   "execution_count": 4,
   "metadata": {
    "scrolled": false
   },
   "outputs": [
    {
     "name": "stderr",
     "output_type": "stream",
     "text": [
      "18-Oct-19 21:20:17: Loading /Volumes/data/data/mms/mms1/dsp/fast/l2/bpsd/2015/10/mms1_dsp_fast_l2_bpsd_20151016_v2.1.1.cdf\n"
     ]
    },
    {
     "name": "stdout",
     "output_type": "stream",
     "text": [
      "Loaded variables:\n",
      "mms1_dsp_bpsd_scm1_fast_l2\n",
      "mms1_dsp_bpsd_scm2_fast_l2\n",
      "mms1_dsp_bpsd_scm3_fast_l2\n",
      "mms1_dsp_bpsd_omni_fast_l2\n"
     ]
    }
   ],
   "source": [
    "bpsd_vars = dsp(data_rate='fast', probe=1, datatype='bpsd', level='l2')"
   ]
  },
  {
   "cell_type": "markdown",
   "metadata": {},
   "source": [
    "## Plot the omni-directional SCM spectral density "
   ]
  },
  {
   "cell_type": "code",
   "execution_count": 5,
   "metadata": {},
   "outputs": [],
   "source": [
    "tplot('mms1_dsp_bpsd_omni_fast_l2')"
   ]
  }
 ],
 "metadata": {
  "kernelspec": {
   "display_name": "Python 3",
   "language": "python",
   "name": "python3"
  },
  "language_info": {
   "codemirror_mode": {
    "name": "ipython",
    "version": 3
   },
   "file_extension": ".py",
   "mimetype": "text/x-python",
   "name": "python",
   "nbconvert_exporter": "python",
   "pygments_lexer": "ipython3",
   "version": "3.7.2"
  }
 },
 "nbformat": 4,
 "nbformat_minor": 2
}
