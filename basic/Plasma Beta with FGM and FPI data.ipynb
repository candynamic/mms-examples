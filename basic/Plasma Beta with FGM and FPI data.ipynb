{
 "cells": [
  {
   "cell_type": "markdown",
   "metadata": {},
   "source": [
    "# Plasma Beta with FGM and FPI data\n",
    "\n",
    "This notebook shows how to calculate plasma beta with FGM and FPI data"
   ]
  },
  {
   "cell_type": "markdown",
   "metadata": {},
   "source": [
    "## Get started"
   ]
  },
  {
   "cell_type": "code",
   "execution_count": 1,
   "metadata": {},
   "outputs": [],
   "source": [
    "from pyspedas.mms import fgm, fpi # load routines\n",
    "from pyspedas import tinterpol # interpolate tplot variables\n",
    "from pytplot import tplot, get_data, store_data # plot, access, and create tplot variables\n",
    "import numpy as np"
   ]
  },
  {
   "cell_type": "markdown",
   "metadata": {},
   "source": [
    "## Define some constants"
   ]
  },
  {
   "cell_type": "code",
   "execution_count": 2,
   "metadata": {},
   "outputs": [],
   "source": [
    "mu0 = 1256.0 # nT-m/A\n",
    "Kb=1.3807*10**(-16.) # cm^2-g-1/s^2-1/K"
   ]
  },
  {
   "cell_type": "markdown",
   "metadata": {},
   "source": [
    "## Set some options for the load routines"
   ]
  },
  {
   "cell_type": "code",
   "execution_count": 3,
   "metadata": {},
   "outputs": [],
   "source": [
    "probe = '1'\n",
    "trange = ['2015-10-16/11:00', '2015-10-16/14:00']"
   ]
  },
  {
   "cell_type": "markdown",
   "metadata": {},
   "source": [
    "## Load the FGM and FPI data"
   ]
  },
  {
   "cell_type": "code",
   "execution_count": null,
   "metadata": {},
   "outputs": [
    {
     "name": "stderr",
     "output_type": "stream",
     "text": [
      "18-Oct-19 00:22:35: Loading /Volumes/data/data/mms/mms1/fgm/srvy/l2/2015/10/mms1_fgm_srvy_l2_20151016_v4.18.0.cdf\n"
     ]
    }
   ],
   "source": [
    "fgm_vars = fgm(trange=trange, probe=probe)\n",
    "fpi_vars = fpi(datatype=['dis-moms', 'des-moms'], trange=trange, probe=probe)"
   ]
  },
  {
   "cell_type": "markdown",
   "metadata": {},
   "source": [
    "## Set some variable names"
   ]
  },
  {
   "cell_type": "code",
   "execution_count": null,
   "metadata": {},
   "outputs": [],
   "source": [
    "temp_para_i = 'mms'+probe+'_dis_temppara_fast'\n",
    "temp_perp_i = 'mms'+probe+'_dis_tempperp_fast'\n",
    "temp_para_e = 'mms'+probe+'_des_temppara_fast'\n",
    "temp_perp_e = 'mms'+probe+'_des_tempperp_fast'\n",
    "number_density_i = 'mms'+probe+'_dis_numberdensity_fast'\n",
    "number_density_e = 'mms'+probe+'_des_numberdensity_fast'\n",
    "b_field = 'mms'+probe+'_fgm_b_gsm_srvy_l2'\n",
    "b_magnitude = 'mms'+probe+'_fgm_b_gsm_srvy_l2_mag'"
   ]
  },
  {
   "cell_type": "markdown",
   "metadata": {},
   "source": [
    "## Split the B-field magnitude into its own variable"
   ]
  },
  {
   "cell_type": "code",
   "execution_count": null,
   "metadata": {},
   "outputs": [],
   "source": [
    "times, data = get_data(b_field)\n",
    "store_data(b_magnitude, data={'x': times, 'y': data[:, 3]})"
   ]
  },
  {
   "cell_type": "markdown",
   "metadata": {},
   "source": [
    "## Interpolate the B-field data to the FPI time stamps"
   ]
  },
  {
   "cell_type": "code",
   "execution_count": null,
   "metadata": {},
   "outputs": [],
   "source": [
    "tinterpol(b_magnitude, number_density_i, newname=['b_mag_interpolated'])"
   ]
  },
  {
   "cell_type": "markdown",
   "metadata": {},
   "source": [
    "## Extract the data from the pyTplot variables"
   ]
  },
  {
   "cell_type": "code",
   "execution_count": null,
   "metadata": {},
   "outputs": [],
   "source": [
    "btimes, bdata = get_data('b_mag_interpolated')\n",
    "\n",
    "ipatimes, i_para_temp = get_data(temp_para_i)\n",
    "ipetimes, i_perp_temp = get_data(temp_perp_i)\n",
    "epatimes, e_para_temp = get_data(temp_para_e)\n",
    "epetimes, e_perp_temp = get_data(temp_perp_e)\n",
    "\n",
    "nitimes, i_n = get_data(number_density_i)\n",
    "netimes, e_n = get_data(number_density_e)"
   ]
  },
  {
   "cell_type": "markdown",
   "metadata": {},
   "source": [
    "## Calculate the magnetic pressure\n",
    "\n",
    "note: 1.0e-8 comes from A-nT/m -> g/(s^2-cm)"
   ]
  },
  {
   "cell_type": "code",
   "execution_count": null,
   "metadata": {},
   "outputs": [],
   "source": [
    "Pmag = 1.0e-8*bdata**2/(2.0*mu0)"
   ]
  },
  {
   "cell_type": "markdown",
   "metadata": {},
   "source": [
    "## Calculate the ion and electron temperatures"
   ]
  },
  {
   "cell_type": "code",
   "execution_count": null,
   "metadata": {},
   "outputs": [],
   "source": [
    "Te_total=(e_para_temp+2*e_perp_temp)/3.0\n",
    "Ti_total=(i_para_temp+2*i_perp_temp)/3.0"
   ]
  },
  {
   "cell_type": "markdown",
   "metadata": {},
   "source": [
    "## Calculate the plasma pressure\n",
    "\n",
    "note: eV -> K conversion: 11604.505 K/eV"
   ]
  },
  {
   "cell_type": "code",
   "execution_count": null,
   "metadata": {},
   "outputs": [],
   "source": [
    "Pplasma = (i_n*11604.505*Ti_total+e_n*11604.505*Te_total)*Kb"
   ]
  },
  {
   "cell_type": "markdown",
   "metadata": {},
   "source": [
    "## Calculate plasma beta"
   ]
  },
  {
   "cell_type": "code",
   "execution_count": null,
   "metadata": {},
   "outputs": [],
   "source": [
    "Beta = Pplasma/Pmag"
   ]
  },
  {
   "cell_type": "markdown",
   "metadata": {},
   "source": [
    "## Store the data in pyTplot variables"
   ]
  },
  {
   "cell_type": "code",
   "execution_count": null,
   "metadata": {},
   "outputs": [],
   "source": [
    "store_data('plasma_beta', data={'x': btimes, 'y': Beta})\n",
    "store_data('magnetic_pressure', data={'x': btimes, 'y': Pmag})\n",
    "store_data('plasma_pressure', data={'x': btimes, 'y': Pplasma})"
   ]
  },
  {
   "cell_type": "markdown",
   "metadata": {},
   "source": [
    "## Plot the results"
   ]
  },
  {
   "cell_type": "code",
   "execution_count": null,
   "metadata": {},
   "outputs": [],
   "source": [
    "tplot(['plasma_beta', 'plasma_pressure', 'magnetic_pressure'])"
   ]
  },
  {
   "cell_type": "code",
   "execution_count": null,
   "metadata": {},
   "outputs": [],
   "source": []
  }
 ],
 "metadata": {
  "kernelspec": {
   "display_name": "Python 3",
   "language": "python",
   "name": "python3"
  },
  "language_info": {
   "codemirror_mode": {
    "name": "ipython",
    "version": 3
   },
   "file_extension": ".py",
   "mimetype": "text/x-python",
   "name": "python",
   "nbconvert_exporter": "python",
   "pygments_lexer": "ipython3",
   "version": "3.7.2"
  }
 },
 "nbformat": 4,
 "nbformat_minor": 2
}
