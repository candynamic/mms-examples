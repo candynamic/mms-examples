{
 "cells": [
  {
   "cell_type": "markdown",
   "metadata": {},
   "source": [
    "# Active Spacecraft Potential Control (ASPOC)\n",
    "\n",
    "This notebook shows how to load and plot MMS ASPOC data with pySPEDAS and pyTplot\n",
    "\n",
    "For information on the data, please see the Data Products Guide at:\n",
    "\n",
    "https://lasp.colorado.edu/mms/sdc/public/datasets/aspoc/"
   ]
  },
  {
   "cell_type": "markdown",
   "metadata": {},
   "source": [
    "## Get started\n",
    "\n",
    "To get started, import the `aspoc` function from the `pyspedas.mms` module, and `tplot` from `pytplot`"
   ]
  },
  {
   "cell_type": "code",
   "execution_count": 1,
   "metadata": {},
   "outputs": [],
   "source": [
    "from pyspedas.mms import aspoc\n",
    "from pytplot import tplot"
   ]
  },
  {
   "cell_type": "markdown",
   "metadata": {},
   "source": [
    "## Load the survey mode ASPOC data"
   ]
  },
  {
   "cell_type": "code",
   "execution_count": 2,
   "metadata": {},
   "outputs": [
    {
     "name": "stderr",
     "output_type": "stream",
     "text": [
      "18-Oct-19 21:00:07: Loading /Volumes/data/data/mms/mms1/aspoc/srvy/l2/2015/10/mms1_aspoc_srvy_l2_20151016_v2.0.0.cdf\n"
     ]
    },
    {
     "name": "stdout",
     "output_type": "stream",
     "text": [
      "Cannot find x axis.\n",
      "No attribute named DEPEND_TIME or DEPEND_0 in                           variable Epoch\n",
      "Loaded variables:\n",
      "mms1_aspoc_ionc\n",
      "mms1_asp1_ionc\n",
      "mms1_asp2_ionc\n",
      "mms1_asp1_energy\n",
      "mms1_asp2_energy\n",
      "mms1_aspoc_status\n"
     ]
    }
   ],
   "source": [
    "asp_vars = aspoc(trange=['2015-10-16', '2015-10-17'])"
   ]
  },
  {
   "cell_type": "markdown",
   "metadata": {},
   "source": [
    "## Plot the ASPOC data"
   ]
  },
  {
   "cell_type": "code",
   "execution_count": 4,
   "metadata": {},
   "outputs": [],
   "source": [
    "tplot(['mms1_aspoc_ionc', 'mms1_asp1_ionc', 'mms1_asp2_ionc'])"
   ]
  }
 ],
 "metadata": {
  "kernelspec": {
   "display_name": "Python 3",
   "language": "python",
   "name": "python3"
  },
  "language_info": {
   "codemirror_mode": {
    "name": "ipython",
    "version": 3
   },
   "file_extension": ".py",
   "mimetype": "text/x-python",
   "name": "python",
   "nbconvert_exporter": "python",
   "pygments_lexer": "ipython3",
   "version": "3.7.2"
  }
 },
 "nbformat": 4,
 "nbformat_minor": 2
}
