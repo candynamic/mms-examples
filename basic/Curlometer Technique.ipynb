{
 "cells": [
  {
   "cell_type": "markdown",
   "metadata": {},
   "source": [
    "# Curlometer Technique\n",
    "\n",
    "This notebook shows how to calculate div(B), curl(B), total current, perpendicular and parallel currents using the curlometer technique. For more information on this technique, see: \n",
    "\n",
    "Chanteur, G., Spatial Interpolation for Four Spacecraft: Theory, Chapter 14 of Analysis methods for multi-spacecraft data, G. Paschmann and P. W. Daly (Eds.) ISSI Scientific Report SR-001. "
   ]
  },
  {
   "cell_type": "code",
   "execution_count": 1,
   "metadata": {},
   "outputs": [],
   "source": [
    "from pyspedas.mms import fgm, curlometer\n",
    "from pytplot import tplot"
   ]
  },
  {
   "cell_type": "code",
   "execution_count": 2,
   "metadata": {},
   "outputs": [],
   "source": [
    "trange = ['2015-10-30/05:15:45', '2015-10-30/05:15:48']"
   ]
  },
  {
   "cell_type": "code",
   "execution_count": 3,
   "metadata": {},
   "outputs": [
    {
     "name": "stderr",
     "output_type": "stream",
     "text": [
      "24-Oct-19 10:14:27: Loading /Volumes/data/data/mms/mms1/fgm/brst/l2/2015/10/30/mms1_fgm_brst_l2_20151030051444_v4.18.0.cdf\n",
      "24-Oct-19 10:14:27: Loading /Volumes/data/data/mms/mms2/fgm/brst/l2/2015/10/30/mms2_fgm_brst_l2_20151030051444_v4.18.0.cdf\n",
      "24-Oct-19 10:14:27: Loading /Volumes/data/data/mms/mms3/fgm/brst/l2/2015/10/30/mms3_fgm_brst_l2_20151030051444_v4.18.0.cdf\n",
      "24-Oct-19 10:14:27: Loading /Volumes/data/data/mms/mms4/fgm/brst/l2/2015/10/30/mms4_fgm_brst_l2_20151030051444_v4.18.0.cdf\n"
     ]
    },
    {
     "name": "stdout",
     "output_type": "stream",
     "text": [
      "Time clip was applied to: mms1_fgm_b_gse_brst_l2\n",
      "Time clip was applied to: mms1_fgm_flag_brst_l2\n",
      "Problem time clipping: mms1_fgm_r_gse_brst_l2\n",
      "Time clip was applied to: mms2_fgm_b_gse_brst_l2\n",
      "Time clip was applied to: mms2_fgm_flag_brst_l2\n",
      "Problem time clipping: mms2_fgm_r_gse_brst_l2\n",
      "Time clip was applied to: mms3_fgm_b_gse_brst_l2\n",
      "Time clip was applied to: mms3_fgm_flag_brst_l2\n",
      "Problem time clipping: mms3_fgm_r_gse_brst_l2\n",
      "Time clip was applied to: mms4_fgm_b_gse_brst_l2\n",
      "Time clip was applied to: mms4_fgm_flag_brst_l2\n",
      "Problem time clipping: mms4_fgm_r_gse_brst_l2\n",
      "Loaded variables:\n",
      "mms1_fgm_b_gse_brst_l2\n",
      "mms1_fgm_r_gse_brst_l2\n",
      "mms2_fgm_b_gse_brst_l2\n",
      "mms2_fgm_r_gse_brst_l2\n",
      "mms3_fgm_b_gse_brst_l2\n",
      "mms3_fgm_r_gse_brst_l2\n",
      "mms4_fgm_b_gse_brst_l2\n",
      "mms4_fgm_r_gse_brst_l2\n"
     ]
    }
   ],
   "source": [
    "fgm_vars = fgm(probe=[1, 2, 3, 4], trange=trange, data_rate='brst', time_clip=True, varformat='*_gse_*')"
   ]
  },
  {
   "cell_type": "markdown",
   "metadata": {},
   "source": [
    "Note: the position and fields variables need to be in GSE coordinates!"
   ]
  },
  {
   "cell_type": "code",
   "execution_count": 4,
   "metadata": {},
   "outputs": [],
   "source": [
    "positions = ['mms1_fgm_r_gse_brst_l2', 'mms2_fgm_r_gse_brst_l2', 'mms3_fgm_r_gse_brst_l2', 'mms4_fgm_r_gse_brst_l2']\n",
    "fields = ['mms1_fgm_b_gse_brst_l2', 'mms2_fgm_b_gse_brst_l2', 'mms3_fgm_b_gse_brst_l2', 'mms4_fgm_b_gse_brst_l2']"
   ]
  },
  {
   "cell_type": "code",
   "execution_count": 5,
   "metadata": {},
   "outputs": [
    {
     "name": "stdout",
     "output_type": "stream",
     "text": [
      "tinterpol (linear) was applied to: mms2_fgm_b_gse_brst_l2_i\n",
      "tinterpol (linear) was applied to: mms3_fgm_b_gse_brst_l2_i\n",
      "tinterpol (linear) was applied to: mms4_fgm_b_gse_brst_l2_i\n",
      "tinterpol (linear) was applied to: mms1_fgm_r_gse_brst_l2_i\n",
      "tinterpol (linear) was applied to: mms2_fgm_r_gse_brst_l2_i\n",
      "tinterpol (linear) was applied to: mms3_fgm_r_gse_brst_l2_i\n",
      "tinterpol (linear) was applied to: mms4_fgm_r_gse_brst_l2_i\n"
     ]
    }
   ],
   "source": [
    "curlometer_vars = curlometer(fields=fields, positions=positions)"
   ]
  },
  {
   "cell_type": "code",
   "execution_count": 6,
   "metadata": {},
   "outputs": [],
   "source": [
    "tplot(['divB', 'curlB', 'jtotal', 'jperp', 'jpar', 'baryb'])"
   ]
  }
 ],
 "metadata": {
  "kernelspec": {
   "display_name": "Python 3",
   "language": "python",
   "name": "python3"
  },
  "language_info": {
   "codemirror_mode": {
    "name": "ipython",
    "version": 3
   },
   "file_extension": ".py",
   "mimetype": "text/x-python",
   "name": "python",
   "nbconvert_exporter": "python",
   "pygments_lexer": "ipython3",
   "version": "3.7.2"
  }
 },
 "nbformat": 4,
 "nbformat_minor": 2
}
