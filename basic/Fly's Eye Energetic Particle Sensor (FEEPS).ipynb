{
 "cells": [
  {
   "cell_type": "markdown",
   "metadata": {},
   "source": [
    "# Fly's Eye Energetic Particle Sensor (FEEPS)\n",
    "\n",
    "This notebook shows how to load and plot MMS FEEPS data with pySPEDAS and pyTplot\n",
    "\n",
    "For information on the data, please see the Data Products Guide at:\n",
    "\n",
    "https://lasp.colorado.edu/mms/sdc/public/datasets/epd/"
   ]
  },
  {
   "cell_type": "markdown",
   "metadata": {},
   "source": [
    "## Get started\n",
    "\n",
    "To get started, import the `feeps` function from the `pyspedas.mms` module, and `tplot` from `pytplot`"
   ]
  },
  {
   "cell_type": "code",
   "execution_count": 1,
   "metadata": {},
   "outputs": [],
   "source": [
    "from pyspedas.mms import feeps\n",
    "from pytplot import tplot"
   ]
  },
  {
   "cell_type": "markdown",
   "metadata": {},
   "source": [
    "## Load the survey mode electron data"
   ]
  },
  {
   "cell_type": "code",
   "execution_count": 2,
   "metadata": {},
   "outputs": [
    {
     "name": "stderr",
     "output_type": "stream",
     "text": [
      "18-Oct-19 12:19:28: Loading /Volumes/data/data/mms/mms1/feeps/srvy/l2/electron/2015/10/mms1_feeps_srvy_l2_electron_20151016000000_v6.0.2.cdf\n"
     ]
    },
    {
     "name": "stdout",
     "output_type": "stream",
     "text": [
      "The lengths of x and y do not match!\n",
      "The lengths of x and y do not match!\n",
      "The lengths of x and y do not match!\n",
      "Loaded variables:\n",
      "epoch\n",
      "mms1_epd_feeps_srvy_l2_electron_spinsectnum\n",
      "electron_energy\n",
      "electron_energy_lower_bound\n",
      "electron_energy_upper_bound\n",
      "mms1_epd_feeps_srvy_l2_electron_top_count_rate_sensorid_1\n",
      "mms1_epd_feeps_srvy_l2_electron_top_count_rate_sensorid_2\n",
      "mms1_epd_feeps_srvy_l2_electron_top_count_rate_sensorid_3\n",
      "mms1_epd_feeps_srvy_l2_electron_top_count_rate_sensorid_4\n",
      "mms1_epd_feeps_srvy_l2_electron_top_count_rate_sensorid_5\n",
      "mms1_epd_feeps_srvy_l2_electron_top_count_rate_sensorid_9\n",
      "mms1_epd_feeps_srvy_l2_electron_top_count_rate_sensorid_10\n",
      "mms1_epd_feeps_srvy_l2_electron_top_count_rate_sensorid_11\n",
      "mms1_epd_feeps_srvy_l2_electron_top_count_rate_sensorid_12\n",
      "mms1_epd_feeps_srvy_l2_electron_bottom_count_rate_sensorid_1\n",
      "mms1_epd_feeps_srvy_l2_electron_bottom_count_rate_sensorid_2\n",
      "mms1_epd_feeps_srvy_l2_electron_bottom_count_rate_sensorid_3\n",
      "mms1_epd_feeps_srvy_l2_electron_bottom_count_rate_sensorid_4\n",
      "mms1_epd_feeps_srvy_l2_electron_bottom_count_rate_sensorid_5\n",
      "mms1_epd_feeps_srvy_l2_electron_bottom_count_rate_sensorid_9\n",
      "mms1_epd_feeps_srvy_l2_electron_bottom_count_rate_sensorid_10\n",
      "mms1_epd_feeps_srvy_l2_electron_bottom_count_rate_sensorid_11\n",
      "mms1_epd_feeps_srvy_l2_electron_bottom_count_rate_sensorid_12\n",
      "mms1_epd_feeps_srvy_l2_electron_top_intensity_sensorid_1\n",
      "mms1_epd_feeps_srvy_l2_electron_top_intensity_sensorid_2\n",
      "mms1_epd_feeps_srvy_l2_electron_top_intensity_sensorid_3\n",
      "mms1_epd_feeps_srvy_l2_electron_top_intensity_sensorid_4\n",
      "mms1_epd_feeps_srvy_l2_electron_top_intensity_sensorid_5\n",
      "mms1_epd_feeps_srvy_l2_electron_top_intensity_sensorid_9\n",
      "mms1_epd_feeps_srvy_l2_electron_top_intensity_sensorid_10\n",
      "mms1_epd_feeps_srvy_l2_electron_top_intensity_sensorid_11\n",
      "mms1_epd_feeps_srvy_l2_electron_top_intensity_sensorid_12\n",
      "mms1_epd_feeps_srvy_l2_electron_bottom_intensity_sensorid_1\n",
      "mms1_epd_feeps_srvy_l2_electron_bottom_intensity_sensorid_2\n",
      "mms1_epd_feeps_srvy_l2_electron_bottom_intensity_sensorid_3\n",
      "mms1_epd_feeps_srvy_l2_electron_bottom_intensity_sensorid_4\n",
      "mms1_epd_feeps_srvy_l2_electron_bottom_intensity_sensorid_5\n",
      "mms1_epd_feeps_srvy_l2_electron_bottom_intensity_sensorid_9\n",
      "mms1_epd_feeps_srvy_l2_electron_bottom_intensity_sensorid_10\n",
      "mms1_epd_feeps_srvy_l2_electron_bottom_intensity_sensorid_11\n",
      "mms1_epd_feeps_srvy_l2_electron_bottom_intensity_sensorid_12\n",
      "mms1_epd_feeps_srvy_l2_electron_top_sector_mask_sensorid_1\n",
      "mms1_epd_feeps_srvy_l2_electron_top_sector_mask_sensorid_2\n",
      "mms1_epd_feeps_srvy_l2_electron_top_sector_mask_sensorid_3\n",
      "mms1_epd_feeps_srvy_l2_electron_top_sector_mask_sensorid_4\n",
      "mms1_epd_feeps_srvy_l2_electron_top_sector_mask_sensorid_5\n",
      "mms1_epd_feeps_srvy_l2_electron_top_sector_mask_sensorid_9\n",
      "mms1_epd_feeps_srvy_l2_electron_top_sector_mask_sensorid_10\n",
      "mms1_epd_feeps_srvy_l2_electron_top_sector_mask_sensorid_11\n",
      "mms1_epd_feeps_srvy_l2_electron_top_sector_mask_sensorid_12\n",
      "mms1_epd_feeps_srvy_l2_electron_bottom_sector_mask_sensorid_1\n",
      "mms1_epd_feeps_srvy_l2_electron_bottom_sector_mask_sensorid_2\n",
      "mms1_epd_feeps_srvy_l2_electron_bottom_sector_mask_sensorid_3\n",
      "mms1_epd_feeps_srvy_l2_electron_bottom_sector_mask_sensorid_4\n",
      "mms1_epd_feeps_srvy_l2_electron_bottom_sector_mask_sensorid_5\n",
      "mms1_epd_feeps_srvy_l2_electron_bottom_sector_mask_sensorid_9\n",
      "mms1_epd_feeps_srvy_l2_electron_bottom_sector_mask_sensorid_10\n",
      "mms1_epd_feeps_srvy_l2_electron_bottom_sector_mask_sensorid_11\n",
      "mms1_epd_feeps_srvy_l2_electron_bottom_sector_mask_sensorid_12\n",
      "mms1_epd_feeps_srvy_l2_electron_spin\n",
      "mms1_epd_feeps_srvy_l2_electron_integration_sectors\n",
      "mms1_epd_feeps_srvy_l2_electron_spin_duration\n",
      "mms1_epd_feeps_srvy_l2_electron_pitch_angle\n",
      "mms1_epd_feeps_srvy_l2_electron_scpos_ec_gse\n",
      "mms1_epd_feeps_srvy_l2_electron_scz_vec_gse\n",
      "mms1_epd_feeps_srvy_l2_electron_scy_vec_gse\n",
      "mms1_epd_feeps_srvy_l2_electron_scx_vec_gse\n",
      "mms1_epd_feeps_srvy_l2_electron_moon_position_gse\n",
      "mms1_epd_feeps_srvy_l2_electron_radius\n",
      "mms1_epd_feeps_srvy_l2_electron_lat_gse\n",
      "mms1_epd_feeps_srvy_l2_electron_lon_gse\n",
      "mms1_epd_feeps_srvy_l2_electron_l_shell\n",
      "mms1_epd_feeps_srvy_l2_electron_lat_gsm\n",
      "mms1_epd_feeps_srvy_l2_electron_lon_gsm\n"
     ]
    }
   ],
   "source": [
    "feeps_vars = feeps(trange=['2015-10-16', '2015-10-17'], datatype='electron')"
   ]
  },
  {
   "cell_type": "markdown",
   "metadata": {},
   "source": [
    "## Plot the omni-directional electron intensity"
   ]
  },
  {
   "cell_type": "code",
   "execution_count": 3,
   "metadata": {},
   "outputs": [],
   "source": [
    "tplot(['mms1_epd_feeps_srvy_l2_electron_intensity_omni', 'mms1_epd_feeps_srvy_l2_electron_intensity_omni_spin'])"
   ]
  },
  {
   "cell_type": "markdown",
   "metadata": {},
   "source": [
    "## Load the burst mode electron data"
   ]
  },
  {
   "cell_type": "code",
   "execution_count": 4,
   "metadata": {},
   "outputs": [
    {
     "name": "stderr",
     "output_type": "stream",
     "text": [
      "18-Oct-19 12:19:38: Loading /Volumes/data/data/mms/mms1/feeps/brst/l2/electron/2015/10/16/mms1_feeps_brst_l2_electron_20151016130524_v6.0.5.cdf\n"
     ]
    },
    {
     "name": "stdout",
     "output_type": "stream",
     "text": [
      "The lengths of x and y do not match!\n",
      "The lengths of x and y do not match!\n",
      "The lengths of x and y do not match!\n",
      "NaN in energy table encountered; sensor B1\n",
      "NaN in energy table encountered; sensor B1\n",
      "Loaded variables:\n",
      "epoch\n",
      "mms1_epd_feeps_brst_l2_electron_spinsectnum\n",
      "electron_energy\n",
      "electron_energy_lower_bound\n",
      "electron_energy_upper_bound\n",
      "mms1_epd_feeps_brst_l2_electron_top_count_rate_sensorid_1\n",
      "mms1_epd_feeps_brst_l2_electron_top_count_rate_sensorid_2\n",
      "mms1_epd_feeps_brst_l2_electron_top_count_rate_sensorid_3\n",
      "mms1_epd_feeps_brst_l2_electron_top_count_rate_sensorid_4\n",
      "mms1_epd_feeps_brst_l2_electron_top_count_rate_sensorid_5\n",
      "mms1_epd_feeps_brst_l2_electron_top_count_rate_sensorid_9\n",
      "mms1_epd_feeps_brst_l2_electron_top_count_rate_sensorid_10\n",
      "mms1_epd_feeps_brst_l2_electron_top_count_rate_sensorid_11\n",
      "mms1_epd_feeps_brst_l2_electron_top_count_rate_sensorid_12\n",
      "mms1_epd_feeps_brst_l2_electron_bottom_count_rate_sensorid_1\n",
      "mms1_epd_feeps_brst_l2_electron_bottom_count_rate_sensorid_2\n",
      "mms1_epd_feeps_brst_l2_electron_bottom_count_rate_sensorid_3\n",
      "mms1_epd_feeps_brst_l2_electron_bottom_count_rate_sensorid_4\n",
      "mms1_epd_feeps_brst_l2_electron_bottom_count_rate_sensorid_5\n",
      "mms1_epd_feeps_brst_l2_electron_bottom_count_rate_sensorid_9\n",
      "mms1_epd_feeps_brst_l2_electron_bottom_count_rate_sensorid_10\n",
      "mms1_epd_feeps_brst_l2_electron_bottom_count_rate_sensorid_11\n",
      "mms1_epd_feeps_brst_l2_electron_bottom_count_rate_sensorid_12\n",
      "mms1_epd_feeps_brst_l2_electron_top_intensity_sensorid_1\n",
      "mms1_epd_feeps_brst_l2_electron_top_intensity_sensorid_2\n",
      "mms1_epd_feeps_brst_l2_electron_top_intensity_sensorid_3\n",
      "mms1_epd_feeps_brst_l2_electron_top_intensity_sensorid_4\n",
      "mms1_epd_feeps_brst_l2_electron_top_intensity_sensorid_5\n",
      "mms1_epd_feeps_brst_l2_electron_top_intensity_sensorid_9\n",
      "mms1_epd_feeps_brst_l2_electron_top_intensity_sensorid_10\n",
      "mms1_epd_feeps_brst_l2_electron_top_intensity_sensorid_11\n",
      "mms1_epd_feeps_brst_l2_electron_top_intensity_sensorid_12\n",
      "mms1_epd_feeps_brst_l2_electron_bottom_intensity_sensorid_1\n",
      "mms1_epd_feeps_brst_l2_electron_bottom_intensity_sensorid_2\n",
      "mms1_epd_feeps_brst_l2_electron_bottom_intensity_sensorid_3\n",
      "mms1_epd_feeps_brst_l2_electron_bottom_intensity_sensorid_4\n",
      "mms1_epd_feeps_brst_l2_electron_bottom_intensity_sensorid_5\n",
      "mms1_epd_feeps_brst_l2_electron_bottom_intensity_sensorid_9\n",
      "mms1_epd_feeps_brst_l2_electron_bottom_intensity_sensorid_10\n",
      "mms1_epd_feeps_brst_l2_electron_bottom_intensity_sensorid_11\n",
      "mms1_epd_feeps_brst_l2_electron_bottom_intensity_sensorid_12\n",
      "mms1_epd_feeps_brst_l2_electron_top_sector_mask_sensorid_1\n",
      "mms1_epd_feeps_brst_l2_electron_top_sector_mask_sensorid_2\n",
      "mms1_epd_feeps_brst_l2_electron_top_sector_mask_sensorid_3\n",
      "mms1_epd_feeps_brst_l2_electron_top_sector_mask_sensorid_4\n",
      "mms1_epd_feeps_brst_l2_electron_top_sector_mask_sensorid_5\n",
      "mms1_epd_feeps_brst_l2_electron_top_sector_mask_sensorid_9\n",
      "mms1_epd_feeps_brst_l2_electron_top_sector_mask_sensorid_10\n",
      "mms1_epd_feeps_brst_l2_electron_top_sector_mask_sensorid_11\n",
      "mms1_epd_feeps_brst_l2_electron_top_sector_mask_sensorid_12\n",
      "mms1_epd_feeps_brst_l2_electron_bottom_sector_mask_sensorid_1\n",
      "mms1_epd_feeps_brst_l2_electron_bottom_sector_mask_sensorid_2\n",
      "mms1_epd_feeps_brst_l2_electron_bottom_sector_mask_sensorid_3\n",
      "mms1_epd_feeps_brst_l2_electron_bottom_sector_mask_sensorid_4\n",
      "mms1_epd_feeps_brst_l2_electron_bottom_sector_mask_sensorid_5\n",
      "mms1_epd_feeps_brst_l2_electron_bottom_sector_mask_sensorid_9\n",
      "mms1_epd_feeps_brst_l2_electron_bottom_sector_mask_sensorid_10\n",
      "mms1_epd_feeps_brst_l2_electron_bottom_sector_mask_sensorid_11\n",
      "mms1_epd_feeps_brst_l2_electron_bottom_sector_mask_sensorid_12\n",
      "mms1_epd_feeps_brst_l2_electron_spin\n",
      "mms1_epd_feeps_brst_l2_electron_integration_sectors\n",
      "mms1_epd_feeps_brst_l2_electron_spin_duration\n",
      "mms1_epd_feeps_brst_l2_electron_pitch_angle\n",
      "mms1_epd_feeps_brst_l2_electron_scpos_ec_gse\n",
      "mms1_epd_feeps_brst_l2_electron_scz_vec_gse\n",
      "mms1_epd_feeps_brst_l2_electron_scy_vec_gse\n",
      "mms1_epd_feeps_brst_l2_electron_scx_vec_gse\n",
      "mms1_epd_feeps_brst_l2_electron_moon_position_gse\n",
      "mms1_epd_feeps_brst_l2_electron_radius\n",
      "mms1_epd_feeps_brst_l2_electron_lat_gse\n",
      "mms1_epd_feeps_brst_l2_electron_lon_gse\n",
      "mms1_epd_feeps_brst_l2_electron_l_shell\n",
      "mms1_epd_feeps_brst_l2_electron_lat_gsm\n",
      "mms1_epd_feeps_brst_l2_electron_lon_gsm\n"
     ]
    }
   ],
   "source": [
    "burst_vars = feeps(data_rate='brst', trange=['2015-10-16/13:06', '2015-10-16/13:07'], datatype='electron')"
   ]
  },
  {
   "cell_type": "markdown",
   "metadata": {},
   "source": [
    "## Plot the burst data"
   ]
  },
  {
   "cell_type": "code",
   "execution_count": 5,
   "metadata": {},
   "outputs": [],
   "source": [
    "tplot('mms1_epd_feeps_brst_l2_electron_intensity_omni')"
   ]
  }
 ],
 "metadata": {
  "kernelspec": {
   "display_name": "Python 3",
   "language": "python",
   "name": "python3"
  },
  "language_info": {
   "codemirror_mode": {
    "name": "ipython",
    "version": 3
   },
   "file_extension": ".py",
   "mimetype": "text/x-python",
   "name": "python",
   "nbconvert_exporter": "python",
   "pygments_lexer": "ipython3",
   "version": "3.7.2"
  }
 },
 "nbformat": 4,
 "nbformat_minor": 2
}
