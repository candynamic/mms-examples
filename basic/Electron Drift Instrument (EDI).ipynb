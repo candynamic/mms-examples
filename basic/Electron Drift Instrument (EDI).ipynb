{
 "cells": [
  {
   "cell_type": "markdown",
   "metadata": {},
   "source": [
    "# Electron Drift Instrument (EDI)\n",
    "\n",
    "This notebook shows how to load and plot MMS EDI data with pySPEDAS and pyTplot\n",
    "\n",
    "For information on the data, please see the Release Notes and Data Products Guide at:\n",
    "\n",
    "https://lasp.colorado.edu/mms/sdc/public/datasets/fields/"
   ]
  },
  {
   "cell_type": "markdown",
   "metadata": {},
   "source": [
    "## Get started\n",
    "\n",
    "To get started, import the `edi` function from the `pyspedas.mms` module, and `tplot` from `pytplot`"
   ]
  },
  {
   "cell_type": "code",
   "execution_count": 1,
   "metadata": {},
   "outputs": [],
   "source": [
    "from pyspedas.mms import edi\n",
    "from pytplot import tplot"
   ]
  },
  {
   "cell_type": "markdown",
   "metadata": {},
   "source": [
    "## Load the survey mode electron drift data"
   ]
  },
  {
   "cell_type": "code",
   "execution_count": 2,
   "metadata": {},
   "outputs": [
    {
     "name": "stderr",
     "output_type": "stream",
     "text": [
      "18-Oct-19 20:56:29: Loading /Volumes/data/data/mms/mms1/edi/srvy/l2/efield/2015/12/mms1_edi_srvy_l2_efield_20151223_v1.6.2.cdf\n"
     ]
    },
    {
     "name": "stdout",
     "output_type": "stream",
     "text": [
      "Loaded variables:\n",
      "mms1_edi_vdrift_dsl_srvy_l2\n",
      "mms1_edi_vdrift_gse_srvy_l2\n",
      "mms1_edi_vdrift_gsm_srvy_l2\n",
      "mms1_edi_e_dsl_srvy_l2\n",
      "mms1_edi_e_gse_srvy_l2\n",
      "mms1_edi_e_gsm_srvy_l2\n",
      "mms1_edi_tri_weight_srvy_l2\n"
     ]
    }
   ],
   "source": [
    "edi_vars = edi(trange=['2015-12-23', '2015-12-24'])"
   ]
  },
  {
   "cell_type": "markdown",
   "metadata": {},
   "source": [
    "## Plot the ExB drift velocity in GSE coordinates"
   ]
  },
  {
   "cell_type": "code",
   "execution_count": 3,
   "metadata": {},
   "outputs": [],
   "source": [
    "tplot('mms1_edi_vdrift_gse_srvy_l2')"
   ]
  }
 ],
 "metadata": {
  "kernelspec": {
   "display_name": "Python 3",
   "language": "python",
   "name": "python3"
  },
  "language_info": {
   "codemirror_mode": {
    "name": "ipython",
    "version": 3
   },
   "file_extension": ".py",
   "mimetype": "text/x-python",
   "name": "python",
   "nbconvert_exporter": "python",
   "pygments_lexer": "ipython3",
   "version": "3.7.2"
  }
 },
 "nbformat": 4,
 "nbformat_minor": 2
}
